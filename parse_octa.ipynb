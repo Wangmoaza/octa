{
 "cells": [
  {
   "cell_type": "code",
   "execution_count": 1,
   "metadata": {
    "collapsed": true
   },
   "outputs": [],
   "source": [
    "import numpy as np"
   ]
  },
  {
   "cell_type": "code",
   "execution_count": null,
   "metadata": {
    "collapsed": false
   },
   "outputs": [],
   "source": [
    "def parse(filePath):\n",
    "    project_uid = []  # col 0\n",
    "    ncbi_name = []  # col 2\n",
    "    taxon_name = []  # col 3\n",
    "    taxonomy = []  # col 4\n",
    "    octa = [] # col 5 - 65540\n",
    "    \n",
    "    with open(filePath) as f:\n",
    "        f.readline() # read first line (containing info)\n",
    "        cnt = 0\n",
    "        for line in f.readlines():\n",
    "            try:\n",
    "                cnt += 1\n",
    "                tokens = line.strip().split(',')\n",
    "                \n",
    "                if len(tokens[5:]) != 65536:\n",
    "                    continue\n",
    "                \n",
    "                octa.append([int(i) for i in tokens[5:]])\n",
    "                project_uid.append(tokens[0])\n",
    "                ncbi_name.append(tokens[2])\n",
    "                taxonomy.append(tokens[4])\n",
    "                \n",
    "                if cnt % 1000 == 0:\n",
    "                    print cnt \n",
    "            ### END - try\n",
    "            except ValueError:\n",
    "                continue\n",
    "                \n",
    "            ### END - except\n",
    "        ### END - for line\n",
    "    ### END - with\n",
    "    \n",
    "    #octa        = np.asarray(octa)\n",
    "    #project_uid = np.asarray(project_uid)\n",
    "    #ncbi_name   = np.asarray(ncbi_name)\n",
    "    #taxonomy    = np.asarray(taxonomy)\n",
    "\n",
    "    np.save('db3_project_uid', project_uid)\n",
    "    np.save('db3_ncbi_name', ncbi_name)\n",
    "    np.save('db3_taxonomy', taxonomy)\n",
    "    np.save('db3_octa', octa)\n",
    "    \n",
    "    print project_uid.shape\n",
    "    print octa.shape\n",
    "### END - def parse "
   ]
  },
  {
   "cell_type": "code",
   "execution_count": null,
   "metadata": {
    "collapsed": false
   },
   "outputs": [],
   "source": [
    "parse('../8mer.csv')"
   ]
  },
  {
   "cell_type": "code",
   "execution_count": 3,
   "metadata": {
    "collapsed": false
   },
   "outputs": [
    {
     "name": "stdout",
     "output_type": "stream",
     "text": [
      "(23989, 65536)\n",
      "(24481, 65536)\n"
     ]
    }
   ],
   "source": [
    "octa1 = np.load('db3_octa_1.npy')\n",
    "octa2 = np.load('db3_octa_2.npy')\n",
    "\n",
    "print octa1.shape\n",
    "print octa2.shape"
   ]
  },
  {
   "cell_type": "code",
   "execution_count": 7,
   "metadata": {
    "collapsed": false
   },
   "outputs": [
    {
     "ename": "MemoryError",
     "evalue": "",
     "output_type": "error",
     "traceback": [
      "\u001b[1;31m---------------------------------------------------------------------------\u001b[0m",
      "\u001b[1;31mMemoryError\u001b[0m                               Traceback (most recent call last)",
      "\u001b[1;32m<ipython-input-7-ec07a0c1a09a>\u001b[0m in \u001b[0;36m<module>\u001b[1;34m()\u001b[0m\n\u001b[1;32m----> 1\u001b[1;33m \u001b[0mocta\u001b[0m \u001b[1;33m=\u001b[0m \u001b[0mnp\u001b[0m\u001b[1;33m.\u001b[0m\u001b[0mvstack\u001b[0m\u001b[1;33m(\u001b[0m\u001b[1;33m(\u001b[0m\u001b[0mocta1\u001b[0m\u001b[1;33m,\u001b[0m\u001b[0mocta2\u001b[0m\u001b[1;33m)\u001b[0m\u001b[1;33m)\u001b[0m\u001b[1;33m\u001b[0m\u001b[0m\n\u001b[0m\u001b[0;32m      2\u001b[0m \u001b[1;32mprint\u001b[0m \u001b[0mocta\u001b[0m\u001b[1;33m.\u001b[0m\u001b[0mshape\u001b[0m\u001b[1;33m\u001b[0m\u001b[0m\n",
      "\u001b[1;32m/home/haeun0512/anaconda2/lib/python2.7/site-packages/numpy/core/shape_base.pyc\u001b[0m in \u001b[0;36mvstack\u001b[1;34m(tup)\u001b[0m\n\u001b[0;32m    228\u001b[0m \u001b[1;33m\u001b[0m\u001b[0m\n\u001b[0;32m    229\u001b[0m     \"\"\"\n\u001b[1;32m--> 230\u001b[1;33m     \u001b[1;32mreturn\u001b[0m \u001b[0m_nx\u001b[0m\u001b[1;33m.\u001b[0m\u001b[0mconcatenate\u001b[0m\u001b[1;33m(\u001b[0m\u001b[1;33m[\u001b[0m\u001b[0matleast_2d\u001b[0m\u001b[1;33m(\u001b[0m\u001b[0m_m\u001b[0m\u001b[1;33m)\u001b[0m \u001b[1;32mfor\u001b[0m \u001b[0m_m\u001b[0m \u001b[1;32min\u001b[0m \u001b[0mtup\u001b[0m\u001b[1;33m]\u001b[0m\u001b[1;33m,\u001b[0m \u001b[1;36m0\u001b[0m\u001b[1;33m)\u001b[0m\u001b[1;33m\u001b[0m\u001b[0m\n\u001b[0m\u001b[0;32m    231\u001b[0m \u001b[1;33m\u001b[0m\u001b[0m\n\u001b[0;32m    232\u001b[0m \u001b[1;32mdef\u001b[0m \u001b[0mhstack\u001b[0m\u001b[1;33m(\u001b[0m\u001b[0mtup\u001b[0m\u001b[1;33m)\u001b[0m\u001b[1;33m:\u001b[0m\u001b[1;33m\u001b[0m\u001b[0m\n",
      "\u001b[1;31mMemoryError\u001b[0m: "
     ]
    }
   ],
   "source": [
    "octa = np.vstack((octa1,octa2))\n",
    "print octa.shape"
   ]
  },
  {
   "cell_type": "code",
   "execution_count": 9,
   "metadata": {
    "collapsed": false
   },
   "outputs": [],
   "source": [
    "tax1 = np.load('db3_taxonomy_1.npy')\n",
    "tax2 = np.load('db3_taxonomy_2.npy')\n",
    "\n",
    "phylum1 = []\n",
    "phylum2 = []\n",
    "\n",
    "for item1 in tax1:\n",
    "    phylum1.append(item1.split(';')[1])\n",
    "    \n",
    "for item2 in tax2:\n",
    "    phylum2.append(item2.split(';')[1])\n",
    "\n",
    "np.save('db3_phylum_1', phylum1)\n",
    "np.save('db3_phylum_2', phylum2)"
   ]
  },
  {
   "cell_type": "code",
   "execution_count": 4,
   "metadata": {
    "collapsed": false
   },
   "outputs": [
    {
     "name": "stdout",
     "output_type": "stream",
     "text": [
      "[('Proteobacteria', 11008), ('Firmicutes', 7732), ('Actinobacteria', 2713), ('Bacteroidetes', 665), ('Spirochaetes', 356), ('Euryarchaeota', 332), ('Cyanobacteria', 262), ('Tenericutes', 191), ('Chlamydiae', 185), ('Crenarchaeota', 66), ('Fusobacteria', 50), ('Deinococcus-Thermus', 44), ('Thermotogae', 40), ('Chloroflexi', 34), ('Cloacimonetes', 32), ('Thaumarchaeota', 32), ('Aminicenantes', 30), ('Verrucomicrobia', 20), ('Aquificae', 19), ('Planctomycetes', 17), ('Acidobacteria', 15), ('Chlorobi', 14), ('Marinimicrobia', 14), ('Synergistetes', 11), ('Nitrospirae', 10), ('Parcubacteria', 9), ('Atribacteria', 9), ('Calescamantes', 8), ('Thermodesulfobacteria', 8), ('Deferribacteres', 6), ('Microgenomates', 5), ('Latescibacteria', 5), ('', 4), ('Elusimicrobia', 3), ('Omnitrophica', 3), ('Armatimonadetes', 3), ('Fervidibacteria', 3), ('Fibrobacteres', 3), ('Poribacteria_p', 2), ('Dictyoglomi', 2), ('Gemmatimonadetes', 2), ('Aerophobetes', 2), ('TM6', 2), ('Nanoarchaeota', 2), ('Caldiserica', 2), ('Aenigmarchaeota', 1), ('Acetothermia', 1), ('Chrysiogenetes', 1), ('SR1', 1), ('Cloacamonas_p', 1), ('Gracilibacteria', 1), ('Candidatus Saccharibacteria', 1), ('Caldithrix_p', 1), ('GN04', 1), ('Korarchaeota', 1), ('MBGB_p', 1), ('Diapherotrites', 1), ('Hydrogenedentes', 1), ('Hydrogenedentes_NKB19', 1)]\n"
     ]
    }
   ],
   "source": [
    "import operator\n",
    "\n",
    "phylum1 = np.load('db3_phylum_1.npy')\n",
    "dic = {}\n",
    "\n",
    "for phy in phylum1:\n",
    "    dic[phy] = dic.get(phy, 0) + 1\n",
    "\n",
    "sorted_dic = sorted(dic.items(), key=operator.itemgetter(1), reverse=True)\n",
    "\n",
    "print sorted_dic"
   ]
  },
  {
   "cell_type": "code",
   "execution_count": 5,
   "metadata": {
    "collapsed": false
   },
   "outputs": [
    {
     "name": "stdout",
     "output_type": "stream",
     "text": [
      "[('Proteobacteria', 11172), ('Firmicutes', 7882), ('Actinobacteria', 2846), ('Bacteroidetes', 671), ('Spirochaetes', 362), ('Euryarchaeota', 338), ('Cyanobacteria', 272), ('Tenericutes', 191), ('Chlamydiae', 185), ('Crenarchaeota', 66), ('Fusobacteria', 50), ('Deinococcus-Thermus', 44), ('Thermotogae', 40), ('Chloroflexi', 35), ('Thaumarchaeota', 34), ('Cloacimonetes', 32), ('Aminicenantes', 30), ('Verrucomicrobia', 20), ('Aquificae', 19), ('', 17), ('Planctomycetes', 17), ('Acidobacteria', 15), ('Chlorobi', 14), ('Marinimicrobia', 14), ('Synergistetes', 11), ('Nitrospirae', 10), ('Parcubacteria', 9), ('Atribacteria', 9), ('Calescamantes', 8), ('Thermodesulfobacteria', 8), ('Deferribacteres', 6), ('Microgenomates', 5), ('Latescibacteria', 5), ('Elusimicrobia', 3), ('Omnitrophica', 3), ('Armatimonadetes', 3), ('Fervidibacteria', 3), ('Fibrobacteres', 3), ('Poribacteria_p', 2), ('Chrysiogenetes', 2), ('Dictyoglomi', 2), ('Gemmatimonadetes', 2), ('Aerophobetes', 2), ('TM6', 2), ('Nanoarchaeota', 2), ('Caldiserica', 2), ('Aenigmarchaeota', 1), ('Acetothermia', 1), ('SR1', 1), ('Cloacamonas_p', 1), ('Gracilibacteria', 1), ('Candidatus Saccharibacteria', 1), ('Caldithrix_p', 1), ('GN04', 1), ('Korarchaeota', 1), ('MBGB_p', 1), ('Diapherotrites', 1), ('Hydrogenedentes', 1), ('Hydrogenedentes_NKB19', 1)]\n"
     ]
    }
   ],
   "source": [
    "phylum2 = np.load('db3_phylum_2.npy')\n",
    "dic2 = {}\n",
    "\n",
    "for phy in phylum2:\n",
    "    dic2[phy] = dic2.get(phy, 0) + 1\n",
    "\n",
    "sorted_dic2 = sorted(dic2.items(), key=operator.itemgetter(1), reverse=True)\n",
    "\n",
    "print sorted_dic2"
   ]
  },
  {
   "cell_type": "code",
   "execution_count": 6,
   "metadata": {
    "collapsed": true
   },
   "outputs": [],
   "source": [
    "def convert2index(phylums):\n",
    "    phylumNames = ['Proteobacteria', 'Firmicutes', 'Actinobacteria', 'Bacteroidetes', 'Spirochaetes', 'Euryarchaeota', 'Cyanobacteria','Others']\n",
    "    indices = []\n",
    "    for phy in phylums:\n",
    "        if phy in phylumNames:\n",
    "            indices.append(phylumNames.index(phy))\n",
    "        else:\n",
    "            indices.append(len(phylumNames)-1)\n",
    "    \n",
    "    return indices"
   ]
  },
  {
   "cell_type": "code",
   "execution_count": 7,
   "metadata": {
    "collapsed": false
   },
   "outputs": [],
   "source": [
    "indices1 = convert2index(phylum1)\n",
    "indices2 = convert2index(phylum2)"
   ]
  },
  {
   "cell_type": "code",
   "execution_count": 8,
   "metadata": {
    "collapsed": true
   },
   "outputs": [],
   "source": [
    "np.save('db3_phylum_indice1', indices1)\n",
    "np.save('db3_phylum_indice2', indices2) "
   ]
  },
  {
   "cell_type": "code",
   "execution_count": 24,
   "metadata": {
    "collapsed": false,
    "scrolled": true
   },
   "outputs": [
    {
     "name": "stdout",
     "output_type": "stream",
     "text": [
      "(23989,)\n",
      "[20161224 20521498  7477402  8270572 13954068 11632168 13369874 20701158\n",
      "  9901400  8023882  7975838 23152894  6127178 12909640 10888348 13735946\n",
      "  8653714 12154850 13304758  4508612  4155750  4869176 10564450  8067632\n",
      " 21171974  8066370  8690970  5168302  8823050 18279512 10621952  8749030\n",
      "  4197340  4078814 10058644  7877782  8472708  6807530  6790432 26067544\n",
      "  8155452 10746228  8159144  9283290 11710992  3479572  8656812  8615040\n",
      "  8623784  8650354 10483372 11188912 10139314  9198454  6158378  9681754\n",
      "  7393284  3729982  5628246  6359818  4449798  7806492  7999140 10575886\n",
      "  5337482  8097400  1759904  7464496 10157990  7665766  2467640  8849654\n",
      "  9163580  5505694  9924112 10139314  9311230  8251468 10487660 11080772\n",
      " 11492124  8498454 10623232  4953616  1503424  9403462  2160574  5463454\n",
      " 12528794  5141978  4514960  4307830  4731164  4321670  8033880  9657586\n",
      "  9902714 13383200  4309766  2537496]\n"
     ]
    }
   ],
   "source": [
    "octa_sum = octa1.sum(axis=1)\n",
    "\n",
    "print octa_sum.shape\n",
    "print octa_sum[:100]"
   ]
  },
  {
   "cell_type": "code",
   "execution_count": 25,
   "metadata": {
    "collapsed": true
   },
   "outputs": [],
   "source": [
    "def cal_kmer_freq(counts):\n",
    "    frequencies = np.zeros(counts.shape)\n",
    "    summed = np.sum(counts, axis=1)\n",
    "    for row in range(counts.shape[0]): # number of samples\n",
    "        for column in range(counts.shape[1]): # number of tetranucleotides\n",
    "            frequencies[row, column] = float(counts[row, column]) / summed[row]\n",
    "\n",
    "    return frequencies"
   ]
  },
  {
   "cell_type": "code",
   "execution_count": 26,
   "metadata": {
    "collapsed": false
   },
   "outputs": [
    {
     "ename": "MemoryError",
     "evalue": "",
     "output_type": "error",
     "traceback": [
      "\u001b[1;31m---------------------------------------------------------------------------\u001b[0m",
      "\u001b[1;31mMemoryError\u001b[0m                               Traceback (most recent call last)",
      "\u001b[1;32m<ipython-input-26-15c78c53d9d7>\u001b[0m in \u001b[0;36m<module>\u001b[1;34m()\u001b[0m\n\u001b[0;32m      1\u001b[0m \u001b[0mfreq1\u001b[0m \u001b[1;33m=\u001b[0m \u001b[0mcal_kmer_freq\u001b[0m\u001b[1;33m(\u001b[0m\u001b[0mocta1\u001b[0m\u001b[1;33m)\u001b[0m\u001b[1;33m\u001b[0m\u001b[0m\n\u001b[1;32m----> 2\u001b[1;33m \u001b[0mfreq2\u001b[0m \u001b[1;33m=\u001b[0m \u001b[0mcal_kmer_freq\u001b[0m\u001b[1;33m(\u001b[0m\u001b[0mocta2\u001b[0m\u001b[1;33m)\u001b[0m\u001b[1;33m\u001b[0m\u001b[0m\n\u001b[0m\u001b[0;32m      3\u001b[0m \u001b[1;33m\u001b[0m\u001b[0m\n\u001b[0;32m      4\u001b[0m \u001b[1;32mprint\u001b[0m \u001b[0mfreq1\u001b[0m\u001b[1;33m[\u001b[0m\u001b[1;33m:\u001b[0m\u001b[1;36m20\u001b[0m\u001b[1;33m,\u001b[0m \u001b[1;33m:\u001b[0m \u001b[1;36m20\u001b[0m\u001b[1;33m]\u001b[0m\u001b[1;33m\u001b[0m\u001b[0m\n",
      "\u001b[1;32m<ipython-input-25-03eaab28df83>\u001b[0m in \u001b[0;36mcal_kmer_freq\u001b[1;34m(counts)\u001b[0m\n\u001b[0;32m      1\u001b[0m \u001b[1;32mdef\u001b[0m \u001b[0mcal_kmer_freq\u001b[0m\u001b[1;33m(\u001b[0m\u001b[0mcounts\u001b[0m\u001b[1;33m)\u001b[0m\u001b[1;33m:\u001b[0m\u001b[1;33m\u001b[0m\u001b[0m\n\u001b[1;32m----> 2\u001b[1;33m     \u001b[0mfrequencies\u001b[0m \u001b[1;33m=\u001b[0m \u001b[0mnp\u001b[0m\u001b[1;33m.\u001b[0m\u001b[0mzeros\u001b[0m\u001b[1;33m(\u001b[0m\u001b[0mcounts\u001b[0m\u001b[1;33m.\u001b[0m\u001b[0mshape\u001b[0m\u001b[1;33m)\u001b[0m\u001b[1;33m\u001b[0m\u001b[0m\n\u001b[0m\u001b[0;32m      3\u001b[0m     \u001b[0msummed\u001b[0m \u001b[1;33m=\u001b[0m \u001b[0mnp\u001b[0m\u001b[1;33m.\u001b[0m\u001b[0msum\u001b[0m\u001b[1;33m(\u001b[0m\u001b[0mcounts\u001b[0m\u001b[1;33m,\u001b[0m \u001b[0maxis\u001b[0m\u001b[1;33m=\u001b[0m\u001b[1;36m1\u001b[0m\u001b[1;33m)\u001b[0m\u001b[1;33m\u001b[0m\u001b[0m\n\u001b[0;32m      4\u001b[0m     \u001b[1;32mfor\u001b[0m \u001b[0mrow\u001b[0m \u001b[1;32min\u001b[0m \u001b[0mrange\u001b[0m\u001b[1;33m(\u001b[0m\u001b[0mcounts\u001b[0m\u001b[1;33m.\u001b[0m\u001b[0mshape\u001b[0m\u001b[1;33m[\u001b[0m\u001b[1;36m0\u001b[0m\u001b[1;33m]\u001b[0m\u001b[1;33m)\u001b[0m\u001b[1;33m:\u001b[0m \u001b[1;31m# number of samples\u001b[0m\u001b[1;33m\u001b[0m\u001b[0m\n\u001b[0;32m      5\u001b[0m         \u001b[1;32mfor\u001b[0m \u001b[0mcolumn\u001b[0m \u001b[1;32min\u001b[0m \u001b[0mrange\u001b[0m\u001b[1;33m(\u001b[0m\u001b[0mcounts\u001b[0m\u001b[1;33m.\u001b[0m\u001b[0mshape\u001b[0m\u001b[1;33m[\u001b[0m\u001b[1;36m1\u001b[0m\u001b[1;33m]\u001b[0m\u001b[1;33m)\u001b[0m\u001b[1;33m:\u001b[0m \u001b[1;31m# number of tetranucleotides\u001b[0m\u001b[1;33m\u001b[0m\u001b[0m\n",
      "\u001b[1;31mMemoryError\u001b[0m: "
     ]
    }
   ],
   "source": [
    "freq1 = cal_kmer_freq(octa1)\n",
    "freq2 = cal_kmer_freq(octa2)\n",
    "\n",
    "print freq1[:20, : 20]"
   ]
  },
  {
   "cell_type": "code",
   "execution_count": 3,
   "metadata": {
    "collapsed": true
   },
   "outputs": [],
   "source": [
    "def write2file(octa_freq):\n",
    "    with open(\"db3_octa_freq.csv\", \"a\") as fw:\n",
    "        string = \"\"\n",
    "        for freq in octa_freq:\n",
    "            string += str(freq) + ','\n",
    "\n",
    "        string = string[:-1] + '\\n'\n",
    "        fw.write(string)\n",
    "    ### END - with open\n",
    "### END - def write2file"
   ]
  },
  {
   "cell_type": "code",
   "execution_count": 4,
   "metadata": {
    "collapsed": false
   },
   "outputs": [],
   "source": [
    "octa1 = [1, 2, 3, 4, 5, 6, 7]\n",
    "octa2 = [8, 9, 1, 2, 3, 4, 5]\n",
    "\n",
    "write2file(octa1)\n",
    "write2file(octa2)"
   ]
  },
  {
   "cell_type": "code",
   "execution_count": null,
   "metadata": {
    "collapsed": true
   },
   "outputs": [],
   "source": []
  }
 ],
 "metadata": {
  "kernelspec": {
   "display_name": "Python [Root]",
   "language": "python",
   "name": "Python [Root]"
  },
  "language_info": {
   "codemirror_mode": {
    "name": "ipython",
    "version": 2
   },
   "file_extension": ".py",
   "mimetype": "text/x-python",
   "name": "python",
   "nbconvert_exporter": "python",
   "pygments_lexer": "ipython2",
   "version": "2.7.12"
  }
 },
 "nbformat": 4,
 "nbformat_minor": 0
}
